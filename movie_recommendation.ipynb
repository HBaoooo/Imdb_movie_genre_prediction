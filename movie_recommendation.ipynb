{
  "metadata": {
    "kernelspec": {
      "name": "python3",
      "display_name": "Python 3",
      "language": "python"
    },
    "language_info": {
      "name": "python",
      "version": "3.10.13",
      "mimetype": "text/x-python",
      "codemirror_mode": {
        "name": "ipython",
        "version": 3
      },
      "pygments_lexer": "ipython3",
      "nbconvert_exporter": "python",
      "file_extension": ".py"
    },
    "kaggle": {
      "accelerator": "none",
      "dataSources": [
        {
          "sourceId": 1898721,
          "sourceType": "datasetVersion",
          "datasetId": 1131493
        }
      ],
      "dockerImageVersionId": 30698,
      "isInternetEnabled": true,
      "language": "python",
      "sourceType": "notebook",
      "isGpuEnabled": false
    },
    "colab": {
      "provenance": []
    }
  },
  "nbformat_minor": 5,
  "nbformat": 4,
  "cells": [
    {
      "cell_type": "code",
      "source": [
        "import pandas as pd\n",
        "from nltk.corpus import stopwords\n",
        "from nltk.tokenize import word_tokenize\n",
        "import string"
      ],
      "metadata": {
        "tags": [],
        "execution": {
          "iopub.status.busy": "2024-05-13T22:05:15.340465Z",
          "iopub.execute_input": "2024-05-13T22:05:15.341742Z",
          "iopub.status.idle": "2024-05-13T22:05:18.390714Z",
          "shell.execute_reply.started": "2024-05-13T22:05:15.341703Z",
          "shell.execute_reply": "2024-05-13T22:05:18.389836Z"
        },
        "trusted": true,
        "id": "j_gS2l87HdYz"
      },
      "execution_count": null,
      "outputs": [],
      "id": "j_gS2l87HdYz"
    },
    {
      "cell_type": "code",
      "source": [
        "# Load the IMDb dataset\n",
        "imdb_data = pd.read_csv('/kaggle/input/imdb-dataset-of-top-1000-movies-and-tv-shows/imdb_top_1000.csv')"
      ],
      "metadata": {
        "tags": [],
        "execution": {
          "iopub.status.busy": "2024-05-13T22:08:11.344474Z",
          "iopub.execute_input": "2024-05-13T22:08:11.345520Z",
          "iopub.status.idle": "2024-05-13T22:08:11.385341Z",
          "shell.execute_reply.started": "2024-05-13T22:08:11.345479Z",
          "shell.execute_reply": "2024-05-13T22:08:11.384482Z"
        },
        "trusted": true,
        "id": "fE_EtiR3HdY2"
      },
      "execution_count": null,
      "outputs": [],
      "id": "fE_EtiR3HdY2"
    },
    {
      "cell_type": "code",
      "source": [
        "imdb_data.head()"
      ],
      "metadata": {
        "tags": [],
        "execution": {
          "iopub.status.busy": "2024-05-13T22:08:17.105466Z",
          "iopub.execute_input": "2024-05-13T22:08:17.105864Z",
          "iopub.status.idle": "2024-05-13T22:08:17.137288Z",
          "shell.execute_reply.started": "2024-05-13T22:08:17.105834Z",
          "shell.execute_reply": "2024-05-13T22:08:17.135877Z"
        },
        "trusted": true,
        "id": "WPlBNzT5HdY3",
        "outputId": "f91a2e66-45dc-4632-a593-0c9d8bc2b509"
      },
      "execution_count": null,
      "outputs": [
        {
          "execution_count": 4,
          "output_type": "execute_result",
          "data": {
            "text/plain": "                                         Poster_Link  \\\n0  https://m.media-amazon.com/images/M/MV5BMDFkYT...   \n1  https://m.media-amazon.com/images/M/MV5BM2MyNj...   \n2  https://m.media-amazon.com/images/M/MV5BMTMxNT...   \n3  https://m.media-amazon.com/images/M/MV5BMWMwMG...   \n4  https://m.media-amazon.com/images/M/MV5BMWU4N2...   \n\n               Series_Title Released_Year Certificate  Runtime  \\\n0  The Shawshank Redemption          1994           A  142 min   \n1             The Godfather          1972           A  175 min   \n2           The Dark Knight          2008          UA  152 min   \n3    The Godfather: Part II          1974           A  202 min   \n4              12 Angry Men          1957           U   96 min   \n\n                  Genre  IMDB_Rating  \\\n0                 Drama          9.3   \n1          Crime, Drama          9.2   \n2  Action, Crime, Drama          9.0   \n3          Crime, Drama          9.0   \n4          Crime, Drama          9.0   \n\n                                            Overview  Meta_score  \\\n0  Two imprisoned men bond over a number of years...        80.0   \n1  An organized crime dynasty's aging patriarch t...       100.0   \n2  When the menace known as the Joker wreaks havo...        84.0   \n3  The early life and career of Vito Corleone in ...        90.0   \n4  A jury holdout attempts to prevent a miscarria...        96.0   \n\n               Director           Star1           Star2          Star3  \\\n0        Frank Darabont     Tim Robbins  Morgan Freeman     Bob Gunton   \n1  Francis Ford Coppola   Marlon Brando       Al Pacino     James Caan   \n2     Christopher Nolan  Christian Bale    Heath Ledger  Aaron Eckhart   \n3  Francis Ford Coppola       Al Pacino  Robert De Niro  Robert Duvall   \n4          Sidney Lumet     Henry Fonda     Lee J. Cobb  Martin Balsam   \n\n            Star4  No_of_Votes        Gross  \n0  William Sadler      2343110   28,341,469  \n1    Diane Keaton      1620367  134,966,411  \n2   Michael Caine      2303232  534,858,444  \n3    Diane Keaton      1129952   57,300,000  \n4    John Fiedler       689845    4,360,000  ",
            "text/html": "<div>\n<style scoped>\n    .dataframe tbody tr th:only-of-type {\n        vertical-align: middle;\n    }\n\n    .dataframe tbody tr th {\n        vertical-align: top;\n    }\n\n    .dataframe thead th {\n        text-align: right;\n    }\n</style>\n<table border=\"1\" class=\"dataframe\">\n  <thead>\n    <tr style=\"text-align: right;\">\n      <th></th>\n      <th>Poster_Link</th>\n      <th>Series_Title</th>\n      <th>Released_Year</th>\n      <th>Certificate</th>\n      <th>Runtime</th>\n      <th>Genre</th>\n      <th>IMDB_Rating</th>\n      <th>Overview</th>\n      <th>Meta_score</th>\n      <th>Director</th>\n      <th>Star1</th>\n      <th>Star2</th>\n      <th>Star3</th>\n      <th>Star4</th>\n      <th>No_of_Votes</th>\n      <th>Gross</th>\n    </tr>\n  </thead>\n  <tbody>\n    <tr>\n      <th>0</th>\n      <td>https://m.media-amazon.com/images/M/MV5BMDFkYT...</td>\n      <td>The Shawshank Redemption</td>\n      <td>1994</td>\n      <td>A</td>\n      <td>142 min</td>\n      <td>Drama</td>\n      <td>9.3</td>\n      <td>Two imprisoned men bond over a number of years...</td>\n      <td>80.0</td>\n      <td>Frank Darabont</td>\n      <td>Tim Robbins</td>\n      <td>Morgan Freeman</td>\n      <td>Bob Gunton</td>\n      <td>William Sadler</td>\n      <td>2343110</td>\n      <td>28,341,469</td>\n    </tr>\n    <tr>\n      <th>1</th>\n      <td>https://m.media-amazon.com/images/M/MV5BM2MyNj...</td>\n      <td>The Godfather</td>\n      <td>1972</td>\n      <td>A</td>\n      <td>175 min</td>\n      <td>Crime, Drama</td>\n      <td>9.2</td>\n      <td>An organized crime dynasty's aging patriarch t...</td>\n      <td>100.0</td>\n      <td>Francis Ford Coppola</td>\n      <td>Marlon Brando</td>\n      <td>Al Pacino</td>\n      <td>James Caan</td>\n      <td>Diane Keaton</td>\n      <td>1620367</td>\n      <td>134,966,411</td>\n    </tr>\n    <tr>\n      <th>2</th>\n      <td>https://m.media-amazon.com/images/M/MV5BMTMxNT...</td>\n      <td>The Dark Knight</td>\n      <td>2008</td>\n      <td>UA</td>\n      <td>152 min</td>\n      <td>Action, Crime, Drama</td>\n      <td>9.0</td>\n      <td>When the menace known as the Joker wreaks havo...</td>\n      <td>84.0</td>\n      <td>Christopher Nolan</td>\n      <td>Christian Bale</td>\n      <td>Heath Ledger</td>\n      <td>Aaron Eckhart</td>\n      <td>Michael Caine</td>\n      <td>2303232</td>\n      <td>534,858,444</td>\n    </tr>\n    <tr>\n      <th>3</th>\n      <td>https://m.media-amazon.com/images/M/MV5BMWMwMG...</td>\n      <td>The Godfather: Part II</td>\n      <td>1974</td>\n      <td>A</td>\n      <td>202 min</td>\n      <td>Crime, Drama</td>\n      <td>9.0</td>\n      <td>The early life and career of Vito Corleone in ...</td>\n      <td>90.0</td>\n      <td>Francis Ford Coppola</td>\n      <td>Al Pacino</td>\n      <td>Robert De Niro</td>\n      <td>Robert Duvall</td>\n      <td>Diane Keaton</td>\n      <td>1129952</td>\n      <td>57,300,000</td>\n    </tr>\n    <tr>\n      <th>4</th>\n      <td>https://m.media-amazon.com/images/M/MV5BMWU4N2...</td>\n      <td>12 Angry Men</td>\n      <td>1957</td>\n      <td>U</td>\n      <td>96 min</td>\n      <td>Crime, Drama</td>\n      <td>9.0</td>\n      <td>A jury holdout attempts to prevent a miscarria...</td>\n      <td>96.0</td>\n      <td>Sidney Lumet</td>\n      <td>Henry Fonda</td>\n      <td>Lee J. Cobb</td>\n      <td>Martin Balsam</td>\n      <td>John Fiedler</td>\n      <td>689845</td>\n      <td>4,360,000</td>\n    </tr>\n  </tbody>\n</table>\n</div>"
          },
          "metadata": {}
        }
      ],
      "id": "WPlBNzT5HdY3"
    },
    {
      "cell_type": "code",
      "source": [
        "# Preprocessing function\n",
        "def preprocess_text(text):\n",
        "    # Convert text to lowercase\n",
        "    text = text.lower()\n",
        "    # Remove punctuation\n",
        "    text = text.translate(str.maketrans('', '', string.punctuation))\n",
        "    # Tokenize text\n",
        "    tokens = word_tokenize(text)\n",
        "    # Remove stop words\n",
        "    stop_words = set(stopwords.words('english'))\n",
        "    tokens = [word for word in tokens if word not in stop_words]\n",
        "    # Join tokens back into text\n",
        "    preprocessed_text = ' '.join(tokens)\n",
        "    return preprocessed_text\n",
        "\n",
        "# Apply preprocessing to movie descriptions\n",
        "imdb_data['processed_description'] = imdb_data['Overview'].apply(preprocess_text)"
      ],
      "metadata": {
        "tags": [],
        "execution": {
          "iopub.status.busy": "2024-05-13T22:08:28.683311Z",
          "iopub.execute_input": "2024-05-13T22:08:28.683845Z",
          "iopub.status.idle": "2024-05-13T22:08:29.086666Z",
          "shell.execute_reply.started": "2024-05-13T22:08:28.683806Z",
          "shell.execute_reply": "2024-05-13T22:08:29.085739Z"
        },
        "trusted": true,
        "id": "wV8FJfYvHdY4"
      },
      "execution_count": null,
      "outputs": [],
      "id": "wV8FJfYvHdY4"
    },
    {
      "cell_type": "code",
      "source": [
        "from transformers import BertTokenizer, BertModel\n",
        "import torch"
      ],
      "metadata": {
        "tags": [],
        "execution": {
          "iopub.status.busy": "2024-05-13T22:08:39.268592Z",
          "iopub.execute_input": "2024-05-13T22:08:39.269073Z",
          "iopub.status.idle": "2024-05-13T22:08:45.967258Z",
          "shell.execute_reply.started": "2024-05-13T22:08:39.269041Z",
          "shell.execute_reply": "2024-05-13T22:08:45.966304Z"
        },
        "trusted": true,
        "id": "Io9SUWHKHdY5"
      },
      "execution_count": null,
      "outputs": [],
      "id": "Io9SUWHKHdY5"
    },
    {
      "cell_type": "code",
      "source": [
        "# Load BERT tokenizer\n",
        "tokenizer = BertTokenizer.from_pretrained('bert-base-uncased')\n",
        "\n",
        "# Load pre-trained BERT model\n",
        "model = BertModel.from_pretrained('bert-base-uncased')##'distilbert-base-uncased'\n",
        "\n",
        "# Function to extract BERT embeddings\n",
        "def extract_bert_embeddings(text):\n",
        "    inputs = tokenizer(text, return_tensors='pt', padding=True, truncation=True)\n",
        "    with torch.no_grad():\n",
        "        outputs = model(**inputs)\n",
        "    embeddings = outputs.last_hidden_state.mean(dim=1)  # Mean pooling\n",
        "    return embeddings\n",
        "\n",
        "# Extract BERT embeddings for movie descriptions\n",
        "imdb_data['bert_embeddings'] = imdb_data['processed_description'].apply(extract_bert_embeddings)"
      ],
      "metadata": {
        "tags": [],
        "execution": {
          "iopub.status.busy": "2024-05-13T22:23:17.592752Z",
          "iopub.execute_input": "2024-05-13T22:23:17.593150Z",
          "iopub.status.idle": "2024-05-13T22:24:24.456263Z",
          "shell.execute_reply.started": "2024-05-13T22:23:17.593111Z",
          "shell.execute_reply": "2024-05-13T22:24:24.455252Z"
        },
        "trusted": true,
        "id": "Nu8PuSLMHdY5",
        "outputId": "9c670d89-9ec4-4aa9-df14-75db58ee425f",
        "colab": {
          "referenced_widgets": [
            "92b981a4e7144970a214bfa9044e39ae"
          ]
        }
      },
      "execution_count": null,
      "outputs": [
        {
          "output_type": "display_data",
          "data": {
            "text/plain": "model.safetensors:   0%|          | 0.00/440M [00:00<?, ?B/s]",
            "application/vnd.jupyter.widget-view+json": {
              "version_major": 2,
              "version_minor": 0,
              "model_id": "92b981a4e7144970a214bfa9044e39ae"
            }
          },
          "metadata": {}
        }
      ],
      "id": "Nu8PuSLMHdY5"
    },
    {
      "cell_type": "code",
      "source": [
        "# Create movie index\n",
        "movie_index = {}\n",
        "for idx, row in imdb_data.iterrows():\n",
        "    movie_index[row['Series_Title']] = row['bert_embeddings']"
      ],
      "metadata": {
        "execution": {
          "iopub.status.busy": "2024-05-13T22:28:44.745228Z",
          "iopub.execute_input": "2024-05-13T22:28:44.745657Z",
          "iopub.status.idle": "2024-05-13T22:28:44.813145Z",
          "shell.execute_reply.started": "2024-05-13T22:28:44.745628Z",
          "shell.execute_reply": "2024-05-13T22:28:44.812118Z"
        },
        "trusted": true,
        "id": "KfHKPvSZHdY6"
      },
      "execution_count": null,
      "outputs": [],
      "id": "KfHKPvSZHdY6"
    },
    {
      "cell_type": "code",
      "source": [
        "import numpy as np\n",
        "from sklearn.metrics.pairwise import cosine_similarity"
      ],
      "metadata": {
        "tags": [],
        "execution": {
          "iopub.status.busy": "2024-05-13T22:28:47.862694Z",
          "iopub.execute_input": "2024-05-13T22:28:47.863071Z",
          "iopub.status.idle": "2024-05-13T22:28:47.868485Z",
          "shell.execute_reply.started": "2024-05-13T22:28:47.863044Z",
          "shell.execute_reply": "2024-05-13T22:28:47.867258Z"
        },
        "trusted": true,
        "id": "GsbB_qqmHdY6"
      },
      "execution_count": null,
      "outputs": [],
      "id": "GsbB_qqmHdY6"
    },
    {
      "cell_type": "code",
      "source": [
        "top_k = 20"
      ],
      "metadata": {
        "execution": {
          "iopub.status.busy": "2024-05-13T22:28:55.460318Z",
          "iopub.execute_input": "2024-05-13T22:28:55.460730Z",
          "iopub.status.idle": "2024-05-13T22:28:55.465350Z",
          "shell.execute_reply.started": "2024-05-13T22:28:55.460701Z",
          "shell.execute_reply": "2024-05-13T22:28:55.464452Z"
        },
        "trusted": true,
        "id": "uL33-V_FHdY7"
      },
      "execution_count": null,
      "outputs": [],
      "id": "uL33-V_FHdY7"
    },
    {
      "cell_type": "code",
      "source": [
        "# Function to recommend movies based on query\n",
        "def recommend_movies(query, movie_index, top_k):\n",
        "    query_embedding = extract_bert_embeddings(preprocess_text(query))\n",
        "    similarities = {}\n",
        "    for movie_id, embedding in movie_index.items():\n",
        "        similarity = cosine_similarity(query_embedding, embedding)\n",
        "        similarities[movie_id] = similarity\n",
        "    top_k_similarities = dict(sorted(similarities.items(), key=lambda x: x[1], reverse=True)[:top_k])\n",
        "    return top_k_similarities"
      ],
      "metadata": {
        "execution": {
          "iopub.status.busy": "2024-05-13T22:28:56.309608Z",
          "iopub.execute_input": "2024-05-13T22:28:56.309990Z",
          "iopub.status.idle": "2024-05-13T22:28:56.316348Z",
          "shell.execute_reply.started": "2024-05-13T22:28:56.309961Z",
          "shell.execute_reply": "2024-05-13T22:28:56.315195Z"
        },
        "trusted": true,
        "id": "IkGntmCOHdY7"
      },
      "execution_count": null,
      "outputs": [],
      "id": "IkGntmCOHdY7"
    },
    {
      "cell_type": "code",
      "source": [
        "# Example usage\n",
        "query = 'prisoner'#'Shawshank Redemption'#\"Fear can hold you prisoner. Hope can set you free.\"#\"Action-packed thriller\"\n",
        "recommended_movies = recommend_movies(query, movie_index, top_k)\n",
        "print(recommended_movies)"
      ],
      "metadata": {
        "execution": {
          "iopub.status.busy": "2024-05-13T22:29:22.278411Z",
          "iopub.execute_input": "2024-05-13T22:29:22.278859Z",
          "iopub.status.idle": "2024-05-13T22:29:22.636171Z",
          "shell.execute_reply.started": "2024-05-13T22:29:22.278827Z",
          "shell.execute_reply": "2024-05-13T22:29:22.635030Z"
        },
        "trusted": true,
        "id": "yCFka4alHdY7",
        "outputId": "3c05ac58-560b-4ad2-f3bb-0b99dd4e6e27"
      },
      "execution_count": null,
      "outputs": [
        {
          "name": "stdout",
          "text": "{'Un prophète': array([[0.5187758]], dtype=float32), 'Judgment at Nuremberg': array([[0.51112735]], dtype=float32), 'Badhaai ho': array([[0.49708766]], dtype=float32), 'Cool Hand Luke': array([[0.48609877]], dtype=float32), 'Shutter Island': array([[0.4850768]], dtype=float32), \"Hachi: A Dog's Tale\": array([[0.4828335]], dtype=float32), 'The Last Emperor': array([[0.48189312]], dtype=float32), 'Boyhood': array([[0.47773862]], dtype=float32), 'Trois couleurs: Blanc': array([[0.46858677]], dtype=float32), 'Eskiya': array([[0.4655677]], dtype=float32), 'Brokeback Mountain': array([[0.4579839]], dtype=float32), 'The Machinist': array([[0.45765325]], dtype=float32), 'Capharnaüm': array([[0.4518708]], dtype=float32), 'The Purple Rose of Cairo': array([[0.45109624]], dtype=float32), 'Lord of War': array([[0.45011637]], dtype=float32), 'The Dirty Dozen': array([[0.449897]], dtype=float32), 'Zulu': array([[0.44650054]], dtype=float32), 'Knives Out': array([[0.44500747]], dtype=float32), 'Ladri di biciclette': array([[0.44010133]], dtype=float32), 'OMG: Oh My God!': array([[0.43952665]], dtype=float32)}\n",
          "output_type": "stream"
        }
      ],
      "id": "yCFka4alHdY7"
    },
    {
      "cell_type": "code",
      "source": [
        "# Example evaluation using cosine similarity\n",
        "vector1 = np.array([0.1, 0.2, 0.3])\n",
        "vector2 = np.array([0.2, 0.3, 0.4])\n",
        "similarity_score = cosine_similarity(vector1.reshape(1, -1), vector2.reshape(1, -1))[0][0]\n",
        "print(\"Cosine similarity:\", similarity_score)"
      ],
      "metadata": {
        "tags": [],
        "execution": {
          "iopub.status.busy": "2024-05-13T22:11:40.055964Z",
          "iopub.execute_input": "2024-05-13T22:11:40.056752Z",
          "iopub.status.idle": "2024-05-13T22:11:40.065256Z",
          "shell.execute_reply.started": "2024-05-13T22:11:40.056706Z",
          "shell.execute_reply": "2024-05-13T22:11:40.064210Z"
        },
        "trusted": true,
        "id": "VSsr5pwnHdY8",
        "outputId": "a76189bc-1077-44a5-a442-98928a63b0ea"
      },
      "execution_count": null,
      "outputs": [
        {
          "name": "stdout",
          "text": "Cosine similarity: 0.99258333397093\n",
          "output_type": "stream"
        }
      ],
      "id": "VSsr5pwnHdY8"
    },
    {
      "cell_type": "code",
      "source": [],
      "metadata": {
        "id": "IMOPuxELHdY8"
      },
      "execution_count": null,
      "outputs": [],
      "id": "IMOPuxELHdY8"
    }
  ]
}